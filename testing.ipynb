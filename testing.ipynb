{
 "cells": [
  {
   "cell_type": "markdown",
   "id": "2c450c61",
   "metadata": {},
   "source": [
    "# UVP projektna naloga\n",
    "\n",
    "## PODNASLOV\n",
    "\n"
   ]
  },
  {
   "cell_type": "markdown",
   "id": "fb120fc3",
   "metadata": {},
   "source": [
    "### Naprej je potrebno pridobiti podatke s spletne strani. To storimo tako, da poženemo program *main.py* in sledimo navodilom v njemu. \n",
    "Ko smo to opravili se lahko lotimo nase analize podatkov.\n",
    "Naprej nalozimo podatke iz .csv datoteke, ki jo je ustvaril main.py. Poglejmo, kako izgleda in katere podatke sploh imamo na voljo:"
   ]
  },
  {
   "cell_type": "code",
   "execution_count": 48,
   "id": "40d7396f",
   "metadata": {},
   "outputs": [
    {
     "name": "stdout",
     "output_type": "stream",
     "text": [
      "   Id  Price (EUR)                 Transmission               Body Type  \\\n",
      "0   1        23200  5 speed manual transmission      3-doors, hatchback   \n",
      "1   2        25500  5 speed manual transmission    3-doors, convertible   \n",
      "2   4        21990  6 speed manual transmission      3-doors, hatchback   \n",
      "3   5        24545  6 speed manual transmission      3-doors, hatchback   \n",
      "4   7        30000  5 speed manual transmission  5-doors, station wagon   \n",
      "\n",
      "   Number of seats Drive wheel Fuel Type  Number of Cylinders  Power  \\\n",
      "0                4       front  gasoline                    4   1368   \n",
      "1                4       front  gasoline                    4   1368   \n",
      "2                4       front  gasoline                    4   1368   \n",
      "3                4       front  gasoline                    4   1368   \n",
      "4                5       front  gasoline                    4   1970   \n",
      "\n",
      "  Max Torque  Top Speed  Acceleration to 100km/h Combined consumption l/100km  \n",
      "0      power        206                      205                          7.9  \n",
      "1      power        206                      205                          7.9  \n",
      "2      power        201                      208                          8.2  \n",
      "3      power        250                      213                          7.9  \n",
      "4      power        206                      220                          8.2  \n"
     ]
    },
    {
     "name": "stderr",
     "output_type": "stream",
     "text": [
      "/var/folders/49/bcc6_dcd0cvczkjnbz0p2qsw0000gn/T/ipykernel_57545/875054292.py:2: ParserWarning: Length of header or names does not match length of data. This leads to a loss of data with index_col=False.\n",
      "  podatki_o_avtih = pd.read_csv(\"data.csv\", index_col=False)\n"
     ]
    }
   ],
   "source": [
    "import pandas as pd\n",
    "podatki_o_avtih = pd.read_csv(\"data.csv\", index_col=False)\n",
    "print(podatki_o_avtih.head())"
   ]
  },
  {
   "cell_type": "markdown",
   "id": "e83891c7",
   "metadata": {},
   "source": [
    "Seveda nas najprej zanima, koliko podatkov sploh imamo na voljo. Število unikatnih avtomobilov, za katere imamo podatke je enostavno dobiti. Dolžina naše .csv datoteke je:"
   ]
  },
  {
   "cell_type": "code",
   "execution_count": 49,
   "id": "53e0200f",
   "metadata": {},
   "outputs": [
    {
     "name": "stdout",
     "output_type": "stream",
     "text": [
      "48\n"
     ]
    }
   ],
   "source": [
    "print(len(podatki_o_avtih.index))"
   ]
  },
  {
   "cell_type": "markdown",
   "id": "598e36c2",
   "metadata": {},
   "source": [
    "Skupaj imamo torej:"
   ]
  },
  {
   "cell_type": "code",
   "execution_count": 50,
   "id": "56be008b",
   "metadata": {},
   "outputs": [
    {
     "name": "stdout",
     "output_type": "stream",
     "text": [
      "2304\n",
      "['Id', 'Price (EUR)', 'Transmission', 'Body Type', 'Number of seats', 'Drive wheel', 'Fuel Type', 'Number of Cylinders', 'Power', 'Max Torque', 'Top Speed', 'Acceleration to 100km/h', 'Combined consumption l/100km']\n"
     ]
    }
   ],
   "source": [
    "print(len(podatki_o_avtih) * len(podatki_o_avtih.index))\n",
    "print(list(podatki_o_avtih.columns))"
   ]
  },
  {
   "cell_type": "code",
   "execution_count": null,
   "id": "72f8fa91",
   "metadata": {},
   "outputs": [],
   "source": []
  },
  {
   "cell_type": "markdown",
   "id": "321f7155-aace-45d0-b7e5-3225c9e31bbd",
   "metadata": {},
   "source": [
    "Naša .csv datoteka torej očitno vsebuje kar precej podatkov. Poglejmo si nekaj hipotez za te podatke.\n",
    "Za veliko večino ljudi je cena en izmed odločilnih kriterijev, ko se odločajo za nakup novega avtomobila, zato je smiselno vedeti, ali je avto nad- ali podpovprečno drag. \n",
    "Poglejmo si povprečje cene vseh avtomobilo, nato pa še razporeditev cen v grafu:\n",
    "\n"
   ]
  },
  {
   "cell_type": "code",
   "execution_count": 52,
   "id": "6f35444e",
   "metadata": {},
   "outputs": [
    {
     "name": "stdout",
     "output_type": "stream",
     "text": [
      "Povprecna cena avtomobila je tako 22362.395833333332\n"
     ]
    }
   ],
   "source": [
    "print(f\"Povprecna cena avtomobila je tako {podatki_o_avtih[\"Price (EUR)\"].mean()}\")\n"
   ]
  }
 ],
 "metadata": {
  "kernelspec": {
   "display_name": "Python 3 (ipykernel)",
   "language": "python",
   "name": "python3"
  },
  "language_info": {
   "codemirror_mode": {
    "name": "ipython",
    "version": 3
   },
   "file_extension": ".py",
   "mimetype": "text/x-python",
   "name": "python",
   "nbconvert_exporter": "python",
   "pygments_lexer": "ipython3",
   "version": "3.12.2"
  }
 },
 "nbformat": 4,
 "nbformat_minor": 5
}
